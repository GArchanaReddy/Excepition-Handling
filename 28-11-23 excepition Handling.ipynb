{
 "cells": [
  {
   "cell_type": "markdown",
   "id": "70d5dd01",
   "metadata": {},
   "source": [
    "# Exception Handling"
   ]
  },
  {
   "cell_type": "markdown",
   "id": "69f0ebc8",
   "metadata": {},
   "source": [
    "When an error occurs, or exception as we call it, Python will normally stop and generate an error message.\n",
    "\n",
    "The try block lets you test a block of code for errors.\n",
    "\n",
    "The except block lets you handle the error.\n",
    "\n",
    "The else block lets you execute code when there is no error.\n",
    "\n",
    "The finally block lets you execute code, regardless of the result of the try- and except blocks."
   ]
  },
  {
   "cell_type": "code",
   "execution_count": 1,
   "id": "19f942d0",
   "metadata": {},
   "outputs": [
    {
     "name": "stdout",
     "output_type": "stream",
     "text": [
      "enter x:4\n",
      "enter y:0\n"
     ]
    },
    {
     "ename": "ZeroDivisionError",
     "evalue": "division by zero",
     "output_type": "error",
     "traceback": [
      "\u001b[1;31m---------------------------------------------------------------------------\u001b[0m",
      "\u001b[1;31mZeroDivisionError\u001b[0m                         Traceback (most recent call last)",
      "Cell \u001b[1;32mIn[1], line 2\u001b[0m\n\u001b[0;32m      1\u001b[0m x,y \u001b[38;5;241m=\u001b[39m \u001b[38;5;28mint\u001b[39m(\u001b[38;5;28minput\u001b[39m(\u001b[38;5;124m'\u001b[39m\u001b[38;5;124menter x:\u001b[39m\u001b[38;5;124m'\u001b[39m)),\u001b[38;5;28mint\u001b[39m(\u001b[38;5;28minput\u001b[39m(\u001b[38;5;124m'\u001b[39m\u001b[38;5;124menter y:\u001b[39m\u001b[38;5;124m'\u001b[39m))\u001b[38;5;66;03m#we get the division error\u001b[39;00m\n\u001b[1;32m----> 2\u001b[0m z\u001b[38;5;241m=\u001b[39mx\u001b[38;5;241m/\u001b[39my\n\u001b[0;32m      3\u001b[0m z\n",
      "\u001b[1;31mZeroDivisionError\u001b[0m: division by zero"
     ]
    }
   ],
   "source": [
    "x,y = int(input('enter x:')),int(input('enter y:'))#we get the division error\n",
    "z=x/y\n",
    "z"
   ]
  },
  {
   "cell_type": "code",
   "execution_count": 2,
   "id": "fd2199ad",
   "metadata": {},
   "outputs": [
    {
     "name": "stdout",
     "output_type": "stream",
     "text": [
      "enter x:2\n",
      "enter y:0\n",
      "pass valid inputs\n"
     ]
    }
   ],
   "source": [
    "try:\n",
    "    x,y = int(input('enter x:')),int(input('enter y:'))#we get the division error\n",
    "    z=x/y\n",
    "    z\n",
    "except:\n",
    "    print('pass valid inputs')"
   ]
  },
  {
   "cell_type": "code",
   "execution_count": 3,
   "id": "6d096e8b",
   "metadata": {},
   "outputs": [
    {
     "name": "stdout",
     "output_type": "stream",
     "text": [
      "enter x:7\n",
      "enter y:8\n"
     ]
    },
    {
     "ename": "NameError",
     "evalue": "name 'zeroDivisionError' is not defined",
     "output_type": "error",
     "traceback": [
      "\u001b[1;31m---------------------------------------------------------------------------\u001b[0m",
      "\u001b[1;31mNameError\u001b[0m                                 Traceback (most recent call last)",
      "Cell \u001b[1;32mIn[3], line 3\u001b[0m\n\u001b[0;32m      2\u001b[0m x,y \u001b[38;5;241m=\u001b[39m \u001b[38;5;28mint\u001b[39m(\u001b[38;5;28minput\u001b[39m(\u001b[38;5;124m'\u001b[39m\u001b[38;5;124menter x:\u001b[39m\u001b[38;5;124m'\u001b[39m)),\u001b[38;5;28mint\u001b[39m(\u001b[38;5;28minput\u001b[39m(\u001b[38;5;124m'\u001b[39m\u001b[38;5;124menter y:\u001b[39m\u001b[38;5;124m'\u001b[39m))\u001b[38;5;66;03m#if we want to know the  error otherthan the zerodivisionerror and typeerror\u001b[39;00m\n\u001b[1;32m----> 3\u001b[0m z\u001b[38;5;241m=\u001b[39mw\u001b[38;5;241m/\u001b[39my\n\u001b[0;32m      4\u001b[0m z\n",
      "\u001b[1;31mNameError\u001b[0m: name 'w' is not defined",
      "\nDuring handling of the above exception, another exception occurred:\n",
      "\u001b[1;31mNameError\u001b[0m                                 Traceback (most recent call last)",
      "Cell \u001b[1;32mIn[3], line 5\u001b[0m\n\u001b[0;32m      3\u001b[0m     z\u001b[38;5;241m=\u001b[39mw\u001b[38;5;241m/\u001b[39my\n\u001b[0;32m      4\u001b[0m     z\n\u001b[1;32m----> 5\u001b[0m \u001b[38;5;28;01mexcept\u001b[39;00m (zeroDivisionError, \u001b[38;5;167;01mTypeError\u001b[39;00m):\n\u001b[0;32m      6\u001b[0m     \u001b[38;5;28mprint\u001b[39m(\u001b[38;5;124m'\u001b[39m\u001b[38;5;124mhey try passing valid inputs!\u001b[39m\u001b[38;5;124m'\u001b[39m)\n",
      "\u001b[1;31mNameError\u001b[0m: name 'zeroDivisionError' is not defined"
     ]
    }
   ],
   "source": [
    "try:\n",
    "    x,y = int(input('enter x:')),int(input('enter y:'))#if we want to know the  error otherthan the zerodivisionerror and typeerror\n",
    "    z=w/y\n",
    "    z\n",
    "except (zeroDivisionError, TypeError):\n",
    "    print('hey try passing valid inputs!') \n",
    "    "
   ]
  },
  {
   "cell_type": "code",
   "execution_count": 4,
   "id": "9b35653a",
   "metadata": {},
   "outputs": [
    {
     "name": "stdout",
     "output_type": "stream",
     "text": [
      "enter x:4\n",
      "enter y:0\n",
      "hey try passing valid inputs!\n"
     ]
    }
   ],
   "source": [
    "import sys\n",
    "from sys import exc_info\n",
    "try:\n",
    "    x,y = int(input('enter x:')),int(input('enter y:'))#in this except block it captures every error \n",
    "    z=x/y\n",
    "    z\n",
    "except:\n",
    "    print('hey try passing valid inputs!')\n",
    "    "
   ]
  },
  {
   "cell_type": "code",
   "execution_count": 5,
   "id": "0b00d023",
   "metadata": {},
   "outputs": [
    {
     "name": "stdout",
     "output_type": "stream",
     "text": [
      "enter x:1\n",
      "enter y:2\n"
     ]
    },
    {
     "ename": "NameError",
     "evalue": "name 'zeroDivisionError' is not defined",
     "output_type": "error",
     "traceback": [
      "\u001b[1;31m---------------------------------------------------------------------------\u001b[0m",
      "\u001b[1;31mNameError\u001b[0m                                 Traceback (most recent call last)",
      "Cell \u001b[1;32mIn[5], line 3\u001b[0m\n\u001b[0;32m      2\u001b[0m x,y \u001b[38;5;241m=\u001b[39m \u001b[38;5;28mint\u001b[39m(\u001b[38;5;28minput\u001b[39m(\u001b[38;5;124m'\u001b[39m\u001b[38;5;124menter x:\u001b[39m\u001b[38;5;124m'\u001b[39m)),\u001b[38;5;28mint\u001b[39m(\u001b[38;5;28minput\u001b[39m(\u001b[38;5;124m'\u001b[39m\u001b[38;5;124menter y:\u001b[39m\u001b[38;5;124m'\u001b[39m))\u001b[38;5;66;03m#if we want the name error otherthan thezerodivisionerror and typeerror\u001b[39;00m\n\u001b[1;32m----> 3\u001b[0m z\u001b[38;5;241m=\u001b[39mw\u001b[38;5;241m/\u001b[39my\n\u001b[0;32m      4\u001b[0m z\n",
      "\u001b[1;31mNameError\u001b[0m: name 'w' is not defined",
      "\nDuring handling of the above exception, another exception occurred:\n",
      "\u001b[1;31mNameError\u001b[0m                                 Traceback (most recent call last)",
      "Cell \u001b[1;32mIn[5], line 5\u001b[0m\n\u001b[0;32m      3\u001b[0m     z\u001b[38;5;241m=\u001b[39mw\u001b[38;5;241m/\u001b[39my\n\u001b[0;32m      4\u001b[0m     z\n\u001b[1;32m----> 5\u001b[0m \u001b[38;5;28;01mexcept\u001b[39;00m (zeroDivisionError, \u001b[38;5;167;01mTypeError\u001b[39;00m):\n\u001b[0;32m      6\u001b[0m     \u001b[38;5;28mprint\u001b[39m(\u001b[38;5;124m'\u001b[39m\u001b[38;5;124mhey try passing valid inputs!\u001b[39m\u001b[38;5;124m'\u001b[39m)\n",
      "\u001b[1;31mNameError\u001b[0m: name 'zeroDivisionError' is not defined"
     ]
    }
   ],
   "source": [
    "try:\n",
    "    x,y = int(input('enter x:')),int(input('enter y:'))#if we want the name error otherthan thezerodivisionerror and typeerror\n",
    "    z=w/y\n",
    "    z\n",
    "except (zeroDivisionError, TypeError):\n",
    "    print('hey try passing valid inputs!')\n",
    "    "
   ]
  },
  {
   "cell_type": "code",
   "execution_count": 6,
   "id": "8ae19e65",
   "metadata": {},
   "outputs": [
    {
     "name": "stdout",
     "output_type": "stream",
     "text": [
      "enter x:ju\n",
      "<class 'ValueError'> error occured\n"
     ]
    }
   ],
   "source": [
    "import sys\n",
    "from sys import exc_info\n",
    "try:\n",
    "    x,y = int(input('enter x:')),int(input('enter y:'))#To know which error occured \n",
    "    z=x/y\n",
    "    z\n",
    "except :\n",
    "    print(f'{exc_info()[0]} error occured')\n",
    "    \n",
    "    \n",
    "    "
   ]
  },
  {
   "cell_type": "code",
   "execution_count": 7,
   "id": "ecff38f7",
   "metadata": {},
   "outputs": [
    {
     "name": "stdout",
     "output_type": "stream",
     "text": [
      "enter x:5\n",
      "enter y:0\n",
      "<class 'ZeroDivisionError'> error occured\n",
      "None\n",
      "pass valid inputs yaar!\n"
     ]
    },
    {
     "name": "stderr",
     "output_type": "stream",
     "text": [
      "Traceback (most recent call last):\n",
      "  File \"C:\\Users\\ARCHANA REDDY\\AppData\\Local\\Temp\\ipykernel_11964\\767699473.py\", line 5, in <module>\n",
      "    z=x/y\n",
      "      ~^~\n",
      "ZeroDivisionError: division by zero\n"
     ]
    }
   ],
   "source": [
    "import sys,traceback\n",
    "from sys import exc_info\n",
    "try:\n",
    "    x,y = int(input('enter x:')),int(input('enter y:'))# to know in which line the error occured\n",
    "    z=x/y\n",
    "    z\n",
    "except :\n",
    "    print(f'{exc_info()[0]} error occured')\n",
    "    print(traceback.print_exc())\n",
    "    \n",
    "    print('pass valid inputs yaar!')\n",
    "    \n",
    "    "
   ]
  },
  {
   "cell_type": "code",
   "execution_count": 8,
   "id": "65ae0c32",
   "metadata": {},
   "outputs": [
    {
     "name": "stdout",
     "output_type": "stream",
     "text": [
      "enter x:1\n",
      "enter y:0\n"
     ]
    },
    {
     "name": "stderr",
     "output_type": "stream",
     "text": [
      "Traceback (most recent call last):\n",
      "  File \"C:\\Users\\ARCHANA REDDY\\AppData\\Local\\Temp\\ipykernel_11964\\2460496875.py\", line 4, in <module>\n",
      "    z=x/y\n",
      "      ~^~\n",
      "ZeroDivisionError: division by zero\n"
     ]
    },
    {
     "name": "stdout",
     "output_type": "stream",
     "text": [
      "<class 'ZeroDivisionError'> error occured\n",
      "None\n",
      "pass valid inputs yaar!\n",
      "enter x:2\n",
      "enter y:1\n",
      "2.0\n"
     ]
    }
   ],
   "source": [
    "while True:\n",
    "    try:\n",
    "        x,y = int(input('enter x:')),int(input('enter y:'))# to know in which line the error occured\n",
    "        z=x/y\n",
    "        print(z)\n",
    "        break\n",
    "    \n",
    "    except :\n",
    "        print(f'{exc_info()[0]} error occured')\n",
    "        print(traceback.print_exc())\n",
    "    \n",
    "        print('pass valid inputs yaar!')\n",
    "    "
   ]
  },
  {
   "cell_type": "code",
   "execution_count": 9,
   "id": "f6273ed4",
   "metadata": {},
   "outputs": [
    {
     "name": "stdout",
     "output_type": "stream",
     "text": [
      "enter x:hi\n",
      "pass valid inputs yaar!\n",
      "enter x:hi\n",
      "pass valid inputs yaar!\n",
      "enter x:7\n",
      "7\n"
     ]
    }
   ],
   "source": [
    "while True:\n",
    "    try:\n",
    "        x = int(input('enter x:'))# to know in which line the error occured\n",
    "        print(x)\n",
    "        break\n",
    "    \n",
    "    except :\n",
    "        if x=='number':\n",
    "            print(f'{exc_info()[0]} error occured')\n",
    "            print(traceback.print_exc())\n",
    "        \n",
    "        else:\n",
    "            print('pass valid inputs yaar!')\n",
    "    \n",
    "        "
   ]
  },
  {
   "cell_type": "code",
   "execution_count": 10,
   "id": "4356b4ba",
   "metadata": {},
   "outputs": [
    {
     "name": "stdout",
     "output_type": "stream",
     "text": [
      "enter the password(it is a positive integer:)1\n",
      "Password is greater than the number you gave\n",
      "enter the password(it is a positive integer:)2\n",
      "Password is greater than the number you gave\n",
      "enter the password(it is a positive integer:)5\n",
      "enter\n"
     ]
    }
   ],
   "source": [
    "password = 5\n",
    "while True:\n",
    "    try:\n",
    "        x=int(input('enter the password(it is a positive integer:)'))\n",
    "        if x == password:\n",
    "            print('enter')\n",
    "            break\n",
    "        else:\n",
    "            5/0\n",
    "    except:\n",
    "        if password<x:\n",
    "            print('Password is lessthan the number you gave')\n",
    "        else:\n",
    "            print('Password is greater than the number you gave')"
   ]
  },
  {
   "cell_type": "code",
   "execution_count": 11,
   "id": "4ee9be88",
   "metadata": {},
   "outputs": [
    {
     "name": "stdout",
     "output_type": "stream",
     "text": [
      "enter the password(it is a positive integer:)8\n",
      "Password is lessthan the number you gave\n",
      "enter the password(it is a positive integer:)9\n",
      "Password is lessthan the number you gave\n",
      "enter the password(it is a positive integer:)5\n",
      "enter\n"
     ]
    }
   ],
   "source": [
    "password = 5\n",
    "while True:\n",
    "    try:\n",
    "        x=int(input('enter the password(it is a positive integer:)'))#when we raise an eroor then only we need to write except block\n",
    "        if x == password:\n",
    "            print('enter')\n",
    "            break\n",
    "        else:\n",
    "            raise ZeroDivisionError\n",
    "    except:\n",
    "        if password < x:\n",
    "            print('Password is lessthan the number you gave')\n",
    "        else:\n",
    "            print('Password is greater than the number you gave')"
   ]
  },
  {
   "cell_type": "code",
   "execution_count": 12,
   "id": "df6f0562",
   "metadata": {},
   "outputs": [
    {
     "name": "stdout",
     "output_type": "stream",
     "text": [
      "enter the password(it is a positive integer:)7\n",
      "shame shame puppy shame!\n",
      "Password is lessthan the number you gave\n",
      "enter the password(it is a positive integer:)8\n",
      "shame shame puppy shame!\n",
      "Password is lessthan the number you gave\n",
      "enter the password(it is a positive integer:)hi\n"
     ]
    },
    {
     "ename": "ValueError",
     "evalue": "invalid literal for int() with base 10: 'hi'",
     "output_type": "error",
     "traceback": [
      "\u001b[1;31m---------------------------------------------------------------------------\u001b[0m",
      "\u001b[1;31mValueError\u001b[0m                                Traceback (most recent call last)",
      "Cell \u001b[1;32mIn[12], line 8\u001b[0m\n\u001b[0;32m      6\u001b[0m \u001b[38;5;28;01mwhile\u001b[39;00m \u001b[38;5;28;01mTrue\u001b[39;00m:\n\u001b[0;32m      7\u001b[0m     \u001b[38;5;28;01mtry\u001b[39;00m:\n\u001b[1;32m----> 8\u001b[0m         x\u001b[38;5;241m=\u001b[39m\u001b[38;5;28mint\u001b[39m(\u001b[38;5;28minput\u001b[39m(\u001b[38;5;124m'\u001b[39m\u001b[38;5;124menter the password(it is a positive integer:)\u001b[39m\u001b[38;5;124m'\u001b[39m))\u001b[38;5;66;03m#custom error\u001b[39;00m\n\u001b[0;32m      9\u001b[0m         \u001b[38;5;28;01mif\u001b[39;00m x \u001b[38;5;241m==\u001b[39m password:\n\u001b[0;32m     10\u001b[0m             \u001b[38;5;28mprint\u001b[39m(\u001b[38;5;124m'\u001b[39m\u001b[38;5;124menter\u001b[39m\u001b[38;5;124m'\u001b[39m)\n",
      "\u001b[1;31mValueError\u001b[0m: invalid literal for int() with base 10: 'hi'"
     ]
    }
   ],
   "source": [
    "class KhudkaError(Exception):\n",
    "    '''Khud ka Error rei bhai!'''\n",
    "    def __init__(self):\n",
    "        print('shame shame puppy shame!')\n",
    "password = 5\n",
    "while True:\n",
    "    try:\n",
    "        x=int(input('enter the password(it is a positive integer:)'))#custom error\n",
    "        if x == password:\n",
    "            print('enter')\n",
    "            break\n",
    "        else:\n",
    "            raise KhudkaError()\n",
    "    except KhudkaError:\n",
    "        if password < x:\n",
    "            print('Password is lessthan the number you gave')\n",
    "        else:\n",
    "            print('Password is greater than the number you gave')\n"
   ]
  },
  {
   "cell_type": "markdown",
   "id": "72e5fbc0",
   "metadata": {},
   "source": [
    "# Else"
   ]
  },
  {
   "cell_type": "code",
   "execution_count": 13,
   "id": "a9f85333",
   "metadata": {},
   "outputs": [
    {
     "name": "stdout",
     "output_type": "stream",
     "text": [
      "enter x:2\n",
      "enter y:3\n",
      "0.6666666666666666\n",
      "The code has executed without any flaws\n"
     ]
    }
   ],
   "source": [
    "try:\n",
    "        x,y = int(input('enter x:')),int(input('enter y:'))\n",
    "        z=x/y\n",
    "        print(z)\n",
    "    \n",
    "except :\n",
    "    print('pass valid inputs yaar!')\n",
    "else:\n",
    "    print('The code has executed without any flaws')\n",
    "    \n",
    "    \n",
    "    "
   ]
  },
  {
   "cell_type": "code",
   "execution_count": 14,
   "id": "a73ae219",
   "metadata": {},
   "outputs": [
    {
     "name": "stdout",
     "output_type": "stream",
     "text": [
      "enter x:hj\n",
      "pass valid inputs\n"
     ]
    }
   ],
   "source": [
    "try:\n",
    "        x,y = int(input('enter x:')),int(input('enter y:'))\n",
    "        z=x/y\n",
    "        print(z)\n",
    "    \n",
    "except ZeroDivisionError :\n",
    "    print('pass valid input for y,otherthan 0')\n",
    "except ValueError:\n",
    "    print('pass valid inputs')\n",
    "except TypeError:\n",
    "    print('pass valid data type')\n",
    "        \n",
    "    \n",
    "else:\n",
    "    print('The code has executed without any flaws')\n",
    "    "
   ]
  },
  {
   "cell_type": "code",
   "execution_count": 15,
   "id": "27375ef0",
   "metadata": {},
   "outputs": [
    {
     "name": "stdout",
     "output_type": "stream",
     "text": [
      "enter x:5\n",
      "enter y:4\n",
      "1.25\n",
      "The code has executed without any flaws\n"
     ]
    }
   ],
   "source": [
    "try:\n",
    "        x,y = int(input('enter x:')),int(input('enter y:'))\n",
    "        z=x/y\n",
    "        print(z)\n",
    "    \n",
    "except ZeroDivisionError :\n",
    "    print('pass valid input for y,otherthan 0')\n",
    "except ValueError:\n",
    "    print('pass valid inputs')\n",
    "except TypeError:\n",
    "    print('pass valid data type')\n",
    "        \n",
    "    \n",
    "else:\n",
    "    print('The code has executed without any flaws')\n",
    "    "
   ]
  },
  {
   "cell_type": "markdown",
   "id": "aeb96501",
   "metadata": {},
   "source": [
    "# final"
   ]
  },
  {
   "cell_type": "markdown",
   "id": "c4d20b27",
   "metadata": {},
   "source": [
    "whether we get the errors or not the final block is executed\n"
   ]
  },
  {
   "cell_type": "code",
   "execution_count": 17,
   "id": "be04d3cf",
   "metadata": {},
   "outputs": [
    {
     "name": "stdout",
     "output_type": "stream",
     "text": [
      "enter x:4\n",
      "enter y:4\n",
      "1.0\n",
      "The code has executed without any flaws\n",
      "pakka execute hothaa!!!\n"
     ]
    }
   ],
   "source": [
    "try:\n",
    "        x,y = int(input('enter x:')),int(input('enter y:'))\n",
    "        z=x/y\n",
    "        print(z)\n",
    "    \n",
    "except ZeroDivisionError :\n",
    "    print('pass valid input for y,otherthan 0')\n",
    "except ValueError:\n",
    "    print('pass valid inputs')\n",
    "except TypeError:\n",
    "    print('pass valid data type')\n",
    "        \n",
    "    \n",
    "else:\n",
    "    print('The code has executed without any flaws')\n",
    "finally:\n",
    "    print('pakka execute hothaa!!!')\n",
    "    "
   ]
  },
  {
   "cell_type": "code",
   "execution_count": 18,
   "id": "5ba0ec1e",
   "metadata": {},
   "outputs": [
    {
     "name": "stdout",
     "output_type": "stream",
     "text": [
      "enter x:1\n",
      "enter y:0\n",
      "pass valid input for y,otherthan 0\n",
      "pakka execute hothaa!!\n"
     ]
    }
   ],
   "source": [
    "try:\n",
    "        x,y = int(input('enter x:')),int(input('enter y:'))\n",
    "        z=x/y\n",
    "        print(z)\n",
    "    \n",
    "except ZeroDivisionError :\n",
    "    print('pass valid input for y,otherthan 0')\n",
    "except ValueError:\n",
    "    print('pass valid inputs')\n",
    "except TypeError:\n",
    "    print('pass valid data type')\n",
    "        \n",
    "    \n",
    "else:\n",
    "    print('The code has executed without any flaws')\n",
    "finally:\n",
    "    print('pakka execute hothaa!!')\n",
    "    \n",
    "    "
   ]
  },
  {
   "cell_type": "code",
   "execution_count": null,
   "id": "58ab2b5b",
   "metadata": {},
   "outputs": [],
   "source": []
  }
 ],
 "metadata": {
  "kernelspec": {
   "display_name": "Python 3 (ipykernel)",
   "language": "python",
   "name": "python3"
  },
  "language_info": {
   "codemirror_mode": {
    "name": "ipython",
    "version": 3
   },
   "file_extension": ".py",
   "mimetype": "text/x-python",
   "name": "python",
   "nbconvert_exporter": "python",
   "pygments_lexer": "ipython3",
   "version": "3.11.5"
  }
 },
 "nbformat": 4,
 "nbformat_minor": 5
}
